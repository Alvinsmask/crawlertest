{
 "cells": [
  {
   "cell_type": "code",
   "execution_count": 34,
   "metadata": {},
   "outputs": [
    {
     "name": "stdout",
     "output_type": "stream",
     "text": [
      "{'Content-Type': 'text/html; charset=utf-8', 'Connection': 'keep-alive', 'X-DAE-App': 'sns', 'Date': 'Tue, 28 Aug 2018 13:46:18 GMT', 'Server': 'dae', 'Transfer-Encoding': 'chunked', 'Set-Cookie': 'll=\"108289\"; path=/; domain=.douban.com; expires=Wed, 28-Aug-2019 13:46:18 GMT, bid=HFZMyVYa5zw; Expires=Wed, 28-Aug-19 13:46:18 GMT; Domain=.douban.com; Path=/', 'X-Frame-Options': 'SAMEORIGIN', 'Vary': 'Accept-Encoding', 'X-DOUBAN-NEWBID': 'HFZMyVYa5zw', 'Cache-Control': 'must-revalidate, no-cache, private', 'Keep-Alive': 'timeout=30', 'Content-Encoding': 'gzip', 'X-Douban-Mobileapp': '0', 'Expires': 'Sun, 1 Jan 2006 01:00:00 GMT', 'Strict-Transport-Security': 'max-age=15552000;', 'X-Xss-Protection': '1; mode=block', 'X-DAE-Node': 'anson18', 'Pragma': 'no-cache'}\n"
     ]
    }
   ],
   "source": [
    "import requests\n",
    "headers={\"User-Agent\": \"Mozilla/5.0 (X11; Ubuntu; Linux x86_64; rv:61.0) Gecko/20100101 Firefox/61.0\"}\n",
    "r = requests.get('https://www.douban.com/', headers=headers)\n",
    "# print(r.text[:1000])\n",
    "print(r.headers)\n"
   ]
  },
  {
   "cell_type": "code",
   "execution_count": 11,
   "metadata": {},
   "outputs": [
    {
     "data": {
      "text/plain": [
       "{'Content-Type': 'text/html; charset=utf-8', 'Connection': 'keep-alive', 'X-DAE-App': 'sns', 'Date': 'Tue, 28 Aug 2018 12:22:18 GMT', 'Server': 'dae', 'Transfer-Encoding': 'chunked', 'Set-Cookie': 'll=\"108289\"; path=/; domain=.douban.com; expires=Wed, 28-Aug-2019 12:22:18 GMT, bid=IU0vBPcagCQ; Expires=Wed, 28-Aug-19 12:22:18 GMT; Domain=.douban.com; Path=/', 'X-Frame-Options': 'SAMEORIGIN', 'Vary': 'Accept-Encoding', 'X-DOUBAN-NEWBID': 'IU0vBPcagCQ', 'Cache-Control': 'must-revalidate, no-cache, private', 'Keep-Alive': 'timeout=30', 'Content-Encoding': 'gzip', 'X-Douban-Mobileapp': '0', 'Expires': 'Sun, 1 Jan 2006 01:00:00 GMT', 'Strict-Transport-Security': 'max-age=15552000;', 'X-Xss-Protection': '1; mode=block', 'X-DAE-Node': 'brand64', 'Pragma': 'no-cache'}"
      ]
     },
     "execution_count": 11,
     "metadata": {},
     "output_type": "execute_result"
    }
   ],
   "source": [
    "r.headers"
   ]
  },
  {
   "cell_type": "code",
   "execution_count": 35,
   "metadata": {},
   "outputs": [
    {
     "name": "stdout",
     "output_type": "stream",
     "text": [
      "{'Content-Type': 'text/html; charset=gbk', 'Connection': 'keep-alive', 'Date': 'Tue, 28 Aug 2018 13:46:33 GMT', 'Transfer-Encoding': 'chunked', 'hh': '1-1', 'Server': 'JDWS/2.0', 'Age': '1', 'Vary': 'Accept-Encoding', 'Cache-Control': 'max-age=60', 'Last-Modified': 'Tue, 28 Aug 2018 13:46:35 GMT', 'Content-Encoding': 'gzip', 'ser': '3.82', 'Expires': 'Tue, 28 Aug 2018 13:47:32 GMT', 'Via': 'BJ-H-NX-110(EXPIRED), http/1.1 BJ-EDU-1-JCS-38 ( [cSsSfU])'}\n"
     ]
    }
   ],
   "source": [
    "url = \"https://item.jd.com/2967929.html\"\n",
    "try:\n",
    "    headers={\n",
    "            \"User-Agent\": \"Mozilla/5.0 (X11; Ubuntu; Linux x86_64; rv:61.0) Gecko/20100101 Firefox/61.0\"\n",
    "            }\n",
    "    r=requests.get(url,headers=headers)\n",
    "    r.raise_for_status()  # 如果 HTTP 请求返回了不成功的状态码， Response.raise_for_status() 会抛出一个 HTTPError 异常。\n",
    "    r.encoding = r.apparent_encoding\n",
    "#     print(r.text[:1000])\n",
    "    print(r.headers)\n",
    "\n",
    "except:\n",
    "    print(\"爬取失败！\")"
   ]
  },
  {
   "cell_type": "code",
   "execution_count": null,
   "metadata": {},
   "outputs": [],
   "source": []
  }
 ],
 "metadata": {
  "kernelspec": {
   "display_name": "Python 3",
   "language": "python",
   "name": "python3"
  },
  "language_info": {
   "codemirror_mode": {
    "name": "ipython",
    "version": 3
   },
   "file_extension": ".py",
   "mimetype": "text/x-python",
   "name": "python",
   "nbconvert_exporter": "python",
   "pygments_lexer": "ipython3",
   "version": "3.5.2"
  }
 },
 "nbformat": 4,
 "nbformat_minor": 2
}
