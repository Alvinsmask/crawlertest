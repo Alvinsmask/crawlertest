{
 "cells": [
  {
   "cell_type": "code",
   "execution_count": 15,
   "metadata": {},
   "outputs": [
    {
     "name": "stdout",
     "output_type": "stream",
     "text": [
      "<!DOCTYPE HTML>\n",
      "<html lang=\"zh-cmn-Hans\" class=\"\">\n",
      "<head>\n",
      "<meta charset=\"UTF-8\">\n",
      "<meta name=\"google-site-verification\" content=\"ok0wCgT20tBBgo9_zat2iAcimtN4Ftf5ccsh092Xeyw\" />\n",
      "<meta name=\"description\" content=\"提供图书、电影、音乐唱片的推荐、评论和价格比较，以及城市独特的文化生活。\">\n",
      "<meta name=\"keywords\" content=\"豆瓣,广播,登陆豆瓣\">\n",
      "<meta property=\"qc:admins\" content=\"2554215131764752166375\" />\n",
      "<meta property=\"wb:webmaster\" content=\"375d4a17a4fa24c2\" />\n",
      "<meta name=\"mobile-agent\" content=\"format=html5; url=https://m.douban.com\">\n",
      "<title>豆瓣</title>\n",
      "<script>\n",
      "function set_cookie(t,e,o,n){var i,a,r=new Date;r.setTime(r.getTime()+24*(e||30)*60*60*1e3),i=\"; expires=\"+r.toGMTString();for(a in t)document.cookie=a+\"=\"+t[a]+i+\"; domain=\"+(o||\"douban.com\")+\"; path=\"+(n||\"/\")}function get_cookie(t){var e,o,n=t+\"=\",i=document.cookie.split(\";\");for(e=0;e<i.length;e++){for(o=i[e];\" \"==o.charAt(0);)o=o.substring(1,o.length);if(0===o.indexOf(n))return o.substring(n.length,o.length).replace(/\\\"/g,\"\")}return null}window.Douban=window.Douban||{};va\n",
      "utf-8\n"
     ]
    }
   ],
   "source": [
    "import requests\n",
    "r = requests.get('https://www.douban.com/')\n",
    "print(r.text[:1000])\n",
    "print(r.encoding)\n"
   ]
  },
  {
   "cell_type": "code",
   "execution_count": 11,
   "metadata": {},
   "outputs": [
    {
     "data": {
      "text/plain": [
       "{'Content-Type': 'text/html; charset=utf-8', 'Connection': 'keep-alive', 'X-DAE-App': 'sns', 'Date': 'Tue, 28 Aug 2018 12:22:18 GMT', 'Server': 'dae', 'Transfer-Encoding': 'chunked', 'Set-Cookie': 'll=\"108289\"; path=/; domain=.douban.com; expires=Wed, 28-Aug-2019 12:22:18 GMT, bid=IU0vBPcagCQ; Expires=Wed, 28-Aug-19 12:22:18 GMT; Domain=.douban.com; Path=/', 'X-Frame-Options': 'SAMEORIGIN', 'Vary': 'Accept-Encoding', 'X-DOUBAN-NEWBID': 'IU0vBPcagCQ', 'Cache-Control': 'must-revalidate, no-cache, private', 'Keep-Alive': 'timeout=30', 'Content-Encoding': 'gzip', 'X-Douban-Mobileapp': '0', 'Expires': 'Sun, 1 Jan 2006 01:00:00 GMT', 'Strict-Transport-Security': 'max-age=15552000;', 'X-Xss-Protection': '1; mode=block', 'X-DAE-Node': 'brand64', 'Pragma': 'no-cache'}"
      ]
     },
     "execution_count": 11,
     "metadata": {},
     "output_type": "execute_result"
    }
   ],
   "source": [
    "r.headers"
   ]
  },
  {
   "cell_type": "code",
   "execution_count": 14,
   "metadata": {},
   "outputs": [],
   "source": [
    "url = \"https://item.jd.com/2967929.html\"\n",
    "try:\n",
    "    r = requests.get(url)\n",
    "    r.raise_for_status()\n",
    "    r.encoding = r.apparent_encoding\n",
    "    print(r.text[:1000])\n",
    "except:\n",
    "    print(\"爬取失败！\")"
   ]
  }
 ],
 "metadata": {
  "kernelspec": {
   "display_name": "Python 3",
   "language": "python",
   "name": "python3"
  },
  "language_info": {
   "codemirror_mode": {
    "name": "ipython",
    "version": 3
   },
   "file_extension": ".py",
   "mimetype": "text/x-python",
   "name": "python",
   "nbconvert_exporter": "python",
   "pygments_lexer": "ipython3",
   "version": "3.5.2"
  }
 },
 "nbformat": 4,
 "nbformat_minor": 2
}
